{
 "cells": [
  {
   "cell_type": "markdown",
   "metadata": {},
   "source": [
    "## Botnet-Buster\n",
    "\n",
    "Alexander L. Hayes — Ph.D. Student — The University of Texas at Dallas  \n",
    "Brian Ricks — Ph.D. Student — The University of Texas at Dallas\n",
    "\n",
    "email: {alexander.hayes, absolutefunk}@utdallas.edu  \n",
    "GitHub: https://github.com/batflyer/Botnet-Buster"
   ]
  },
  {
   "cell_type": "code",
   "execution_count": null,
   "metadata": {
    "collapsed": true
   },
   "outputs": [],
   "source": []
  }
 ],
 "metadata": {
  "kernelspec": {
   "display_name": "Python 3",
   "language": "python",
   "name": "python3"
  },
  "language_info": {
   "codemirror_mode": {
    "name": "ipython",
    "version": 3
   },
   "file_extension": ".py",
   "mimetype": "text/x-python",
   "name": "python",
   "nbconvert_exporter": "python",
   "pygments_lexer": "ipython3",
   "version": "3.6.3"
  }
 },
 "nbformat": 4,
 "nbformat_minor": 2
}
